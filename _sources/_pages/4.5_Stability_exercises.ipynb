{
 "cells": [
  {
   "cell_type": "markdown",
   "id": "18eee355",
   "metadata": {},
   "source": [
    "(stability-exercises-section)=\n",
    "\n",
    "# Stability exercises\n",
    "\n",
    "````{exercise}\n",
    ":label: ch4-ex-erk-stability-function\n",
    "\n",
    "Determine the stability function of the following Runge-Kutta method\n",
    "\n",
    "$$ \\begin{array}{c|ccccc}\n",
    "    0 & 0 &  &  &  & \\\\\n",
    "    1/4 & 1/4 &  &  &  & \\\\\n",
    "    1/2 & 1/2 & 0 &  &  & \\\\\n",
    "    3/4 & 0 & 1/2 & 1/4 &  &    \\\\\n",
    "    0 & 0 & 1/6 & -1/3 & 1/6 & \\\\ \\hline\n",
    "    & -1 & 2/3 & -1/3 & 2/3 & 1\n",
    "\\end{array} $$\n",
    "\n",
    "```{dropdown} Solution\n",
    "$$ R(z) = 1 + z + \\frac{1}{2}z + \\frac{1}{6}z^3 + \\frac{1}{24}z^4 $$\n",
    "```\n",
    "````"
   ]
  },
  {
   "cell_type": "code",
   "execution_count": 26,
   "id": "08649734",
   "metadata": {
    "tags": [
     "remove-cell"
    ]
   },
   "outputs": [
    {
     "name": "stdout",
     "output_type": "stream",
     "text": [
      "R(z) = 1 + 1 z^1 + 1/2 z^2 + 1/6 z^3 + 1/24 z^4 + 0 z^5 "
     ]
    }
   ],
   "source": [
    "import sympy as sp\n",
    "\n",
    "A = sp.Matrix([[0, 0, 0, 0, 0], \n",
    "               [sp.Rational(1,4), 0, 0, 0, 0],\n",
    "               [sp.Rational(1,2), 0, 0, 0, 0],\n",
    "               [0, sp.Rational(1,2), sp.Rational(1,4), 0, 0],\n",
    "               [0, sp.Rational(1,6), -sp.Rational(1,3), sp.Rational(1,6), 0]])\n",
    "b = sp.Matrix([-1, sp.Rational(2,3), -sp.Rational(1,3), sp.Rational(2,3), 1])\n",
    "e = sp.ones(len(b), 1)\n",
    "\n",
    "print(\"R(z) = 1 \", end=\"\")\n",
    "for k in range(len(b)):\n",
    "    print(f\"+ {(b.T * A ** k * e)[0]} z^{k+1} \", end=\"\")"
   ]
  },
  {
   "cell_type": "markdown",
   "id": "0f859466",
   "metadata": {},
   "source": [
    "````{exercise}\n",
    ":label: ch4-ex-irk-stability-function\n",
    "\n",
    "Determine the stability function of the following Runge-Kutta method. Is this an A-stable method?\n",
    "\n",
    "$$ \\begin{array}{c|cc}\n",
    "    1/4 & 7/24 & -1/24\\\\\n",
    "    3/4 & 13/24 & 5/24\\\\ \\hline\n",
    "    & 1/2 & 1/2\n",
    "\\end{array} $$\n",
    "````\n"
   ]
  },
  {
   "cell_type": "markdown",
   "id": "972e99c4",
   "metadata": {},
   "source": [
    "\n",
    "```{exercise}\n",
    ":label: ch2-ex-dirk-stability-function\n",
    "\n",
    "Plot the region of absolute stability for the following Runge-Kutta method.\n",
    "\n",
    "$$ \\begin{array}{c|cc}\n",
    "    1/3 & 1/3 & 0\\\\\n",
    "    1 & 1 & 0\\\\ \\hline\n",
    "    & 3/4 & 1/4\n",
    "\\end{array} $$\n",
    "```\n",
    "\n",
    "```{exercise}\n",
    ":label: ch4-ex-stiffness-ratio\n",
    "\n",
    "Calculate the stiffness ratio for the following system of ODEs. \n",
    "\n",
    "\\begin{align*}\n",
    "    y_1' &= -80.6 y_1 + 119.4 y_2,\\\\\n",
    "    y_2' &= 79.6 y_1 - 120.4 y_2.\n",
    "\\end{align*}\n",
    "\n",
    "What are the maximum step lengths that the Euler method is stable for solving each equation?\n",
    "```"
   ]
  }
 ],
 "metadata": {
  "kernelspec": {
   "display_name": "base",
   "language": "python",
   "name": "python3"
  },
  "language_info": {
   "codemirror_mode": {
    "name": "ipython",
    "version": 3
   },
   "file_extension": ".py",
   "mimetype": "text/x-python",
   "name": "python",
   "nbconvert_exporter": "python",
   "pygments_lexer": "ipython3",
   "version": "3.11.7"
  }
 },
 "nbformat": 4,
 "nbformat_minor": 5
}
