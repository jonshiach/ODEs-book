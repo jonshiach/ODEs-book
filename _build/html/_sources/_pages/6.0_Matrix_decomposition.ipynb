{
 "cells": [
  {
   "attachments": {},
   "cell_type": "markdown",
   "id": "b0316e34",
   "metadata": {},
   "source": [
    "(matrix-decomposition-chapter)=\n",
    "\n",
    "# Matrix Decomposition Methods\n",
    "\n",
    "**Matrix decomposition**, also known as **matrix factorization**, is the process of breaking down a matrix into simpler components that can be more easily analyzed or manipulated. This involves expressing a matrix as a product of two or more matrices, each with their own properties and applications.\n",
    "\n",
    "For example, consider the matrix $A$ below\n",
    "\n",
    "$$ A = \\begin{pmatrix}\n",
    "    1 & 2 & 3 \\\\\n",
    "    4 & 5 & 6 \\\\\n",
    "    7 & 8 & 9\n",
    "\\end{pmatrix}. $$\n",
    "\n",
    "This can be decomposed into two matrices $L$ and $U$ such that $A = LU$ where\n",
    "\n",
    "$$ \\begin{align*}\n",
    "    L &= \\begin{pmatrix}\n",
    "        1 & 0 & 0 \\\\\n",
    "        4 & 1 & 0 \\\\\n",
    "        7 & 2 & 1\n",
    "    \\end{pmatrix}, & \n",
    "    U &= \\begin{pmatrix} \n",
    "        1 & 2 & 3 \\\\\n",
    "        0 & -3 & -6 \\\\\n",
    "        0 & 0 & 0 \n",
    "    \\end{pmatrix}. \n",
    "\\end{align*} $$\n",
    "\n",
    "Here we will be looking at three common matrix decomposition methods:\n",
    "\n",
    "- [LU decomposition](lu-section)\n",
    "- [Cholesky decomposition](cholesky-section) \n",
    "- [QR decomposition](qr-section)"
   ]
  }
 ],
 "metadata": {
  "kernelspec": {
   "display_name": "Python 3",
   "language": "python",
   "name": "python3"
  },
  "language_info": {
   "codemirror_mode": {
    "name": "ipython",
    "version": 3
   },
   "file_extension": ".py",
   "mimetype": "text/x-python",
   "name": "python",
   "nbconvert_exporter": "python",
   "pygments_lexer": "ipython3",
   "version": "3.8.3"
  }
 },
 "nbformat": 4,
 "nbformat_minor": 5
}
