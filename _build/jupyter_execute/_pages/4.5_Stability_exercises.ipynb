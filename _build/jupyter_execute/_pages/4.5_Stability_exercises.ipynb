{
 "cells": [
  {
   "cell_type": "markdown",
   "id": "18eee355",
   "metadata": {},
   "source": [
    "(stability-exercises-section)=\n",
    "\n",
    "# Stability exercises\n",
    "\n",
    "````{exercise}\n",
    ":label: ch4-ex-erk-stability-function\n",
    "\n",
    "Determine the stability function of the following Runge-Kutta method\n",
    "\n",
    "$$ \\begin{array}{c|ccccc}\n",
    "    0 & 0 &  &  &  & \\\\\n",
    "    \\frac{1}{4} & \\frac{1}{4} &  &  &  & \\\\\n",
    "    \\frac{1}{2} & \\frac{1}{2} & 0 &  &  & \\\\\n",
    "    3/4 & 0 & \\frac{1}{2} & \\frac{1}{4} &  &    \\\\\n",
    "    0 & 0 & \\frac{1}{6} & -\\frac{1}{3} & \\frac{1}{6} & \\\\ \\hline\n",
    "    & -1 & \\frac{2}{3} & -\\frac{1}{3} & \\frac{2}{3} & 1\n",
    "\\end{array} $$\n",
    "\n",
    "```{dropdown} Solution\n",
    "$$ R(z) = 1 + z + \\frac{1}{2}z + \\frac{1}{6}z^3 + \\frac{1}{24}z^4 $$\n",
    "```\n",
    "````"
   ]
  },
  {
   "cell_type": "code",
   "execution_count": 1,
   "id": "08649734",
   "metadata": {
    "tags": [
     "remove-cell"
    ]
   },
   "outputs": [
    {
     "name": "stdout",
     "output_type": "stream",
     "text": [
      "R(z) = 1 + 1 z^1 + 1/2 z^2 + 1/6 z^3 + 1/24 z^4 + 0 z^5 "
     ]
    }
   ],
   "source": [
    "import sympy as sp\n",
    "\n",
    "A = sp.Matrix([[0, 0, 0, 0, 0], \n",
    "               [sp.Rational(1,4), 0, 0, 0, 0],\n",
    "               [sp.Rational(1,2), 0, 0, 0, 0],\n",
    "               [0, sp.Rational(1,2), sp.Rational(1,4), 0, 0],\n",
    "               [0, sp.Rational(1,6), -sp.Rational(1,3), sp.Rational(1,6), 0]])\n",
    "b = sp.Matrix([-1, sp.Rational(2,3), -sp.Rational(1,3), sp.Rational(2,3), 1])\n",
    "e = sp.ones(len(b), 1)\n",
    "\n",
    "print(\"R(z) = 1 \", end=\"\")\n",
    "for k in range(len(b)):\n",
    "    print(f\"+ {(b.T * A ** k * e)[0]} z^{k+1} \", end=\"\")"
   ]
  },
  {
   "cell_type": "markdown",
   "id": "0f859466",
   "metadata": {},
   "source": [
    "````{exercise}\n",
    ":label: ch4-ex-irk-stability-function\n",
    "\n",
    "Determine the stability function of the following Runge-Kutta method. Is this an A-stable method?\n",
    "\n",
    "$$ \\begin{array}{c|cc}\n",
    "    \\frac{1}{4} & \\frac{7}{24} & -\\frac{1}{24} \\\\\n",
    "    \\frac{3}{4} & \\frac{13}{24} & \\frac{5}{24} \\\\ \\hline\n",
    "    & \\frac{1}{2} & \\frac{1}{2}\n",
    "\\end{array} $$\n",
    "\n",
    "```{dropdown} Solution\n",
    "$$R(z) = \\frac{1 + \\frac{1}{2}z + \\frac{1}{12}z^2}{1 - \\frac{1}{2}z + \\frac{1}{12}z^2}$$\n",
    "\n",
    "The roots of $Q(z)$ are $3 \\pm \\sqrt{3}i$ and $E(y) = 0$ so this is an A-stable method.\n",
    "```\n",
    "\n",
    "````\n"
   ]
  },
  {
   "cell_type": "code",
   "execution_count": 2,
   "id": "6977f3e9",
   "metadata": {
    "tags": [
     "remove-cell"
    ]
   },
   "outputs": [
    {
     "name": "stdout",
     "output_type": "stream",
     "text": [
      " 2        \n",
      "z    z    \n",
      "── + ─ + 1\n",
      "12   2    \n",
      "──────────\n",
      " 2        \n",
      "z    z    \n",
      "── - ─ + 1\n",
      "12   2    \n",
      "[3 - √3⋅ⅈ, 3 + √3⋅ⅈ]\n",
      "                      4\n",
      "4.33680868994202e-18⋅y \n"
     ]
    }
   ],
   "source": [
    "A = sp.Matrix([[sp.Rational(7,24), -sp.Rational(1,24)], [sp.Rational(13,24), sp.Rational(5,24)]])\n",
    "ebT = sp.Matrix([[sp.Rational(1,2), 0], [0, sp.Rational(1,2)]])\n",
    "\n",
    "def P(z):\n",
    "  return (sp.eye(2) - z * A + z * ebT).det()\n",
    "\n",
    "def Q(z):\n",
    "  return (sp.eye(2) - z * A).det()\n",
    "\n",
    "z, y = sp.symbols('z y')\n",
    "R = P(z) / Q(z)\n",
    "sp.pprint(R)\n",
    "\n",
    "def E(y):\n",
    "  return Q(1j * y) * Q(1j * -y) - P(1j * y) * P(1j * -y)\n",
    "\n",
    "sp.pprint(sp.solve(Q(z)))\n",
    "sp.pprint(sp.simplify(E(y)))"
   ]
  },
  {
   "cell_type": "markdown",
   "id": "972e99c4",
   "metadata": {},
   "source": [
    "`````{exercise}\n",
    ":label: ch2-ex-dirk-stability-function\n",
    "\n",
    "Plot the region of absolute stability for the fourth-order Gauss-Legendre method. What does your plot suggest about the method?\n",
    "\n",
    "$$ \\begin{array}{c|cc}\n",
    "    \\frac{1}{2} - \\frac{\\sqrt{3}}{6} & \\frac{1}{4} & \\frac{1}{4} - \\frac{\\sqrt{3}}{6} \\\\\n",
    "    \\frac{1}{2} + \\frac{\\sqrt{3}}{6} & \\frac{1}{4} + \\frac{\\sqrt{3}}{6} & \\frac{1}{4} \\\\ \\hline\n",
    "    & \\frac{1}{2} & \\frac{1}{2}\n",
    "\\end{array} $$\n",
    "\n",
    "````{dropdown} Solution\n",
    "$$R(z) = \\frac{1 + \\frac{1}{2}z + \\frac{1}{12}z^2}{1 - \\frac{1}{2}z + \\frac{1}{12}z^2}$$\n",
    "\n",
    "```{glue:figure} GL_stability_region\n",
    "```\n",
    "\n",
    "This is an A-stable method.\n",
    "````\n",
    "`````"
   ]
  },
  {
   "cell_type": "code",
   "execution_count": 3,
   "id": "63d8e0b7",
   "metadata": {
    "tags": [
     "remove-cell"
    ]
   },
   "outputs": [
    {
     "name": "stdout",
     "output_type": "stream",
     "text": [
      " 2        \n",
      "z    z    \n",
      "── + ─ + 1\n",
      "12   2    \n",
      "──────────\n",
      " 2        \n",
      "z    z    \n",
      "── - ─ + 1\n",
      "12   2    \n"
     ]
    }
   ],
   "source": [
    "A = sp.Matrix([[sp.Rational(1,4), sp.Rational(1,4) - sp.Rational(1,6) * sp.sqrt(3)], [sp.Rational(1,4) + sp.Rational(1,6) * sp.sqrt(3), sp.Rational(1,4)]])\n",
    "ebT = sp.Matrix([[sp.Rational(1,2), 0], [0, sp.Rational(1,2)]])\n",
    "\n",
    "def P(z):\n",
    "  return (sp.eye(2) - z * A + z * ebT).det()\n",
    "\n",
    "def Q(z):\n",
    "  return (sp.eye(2) - z * A).det()\n",
    "\n",
    "R = P(z) / Q(z)\n",
    "sp.pprint(R)"
   ]
  },
  {
   "cell_type": "code",
   "execution_count": 4,
   "id": "6ba1faa8",
   "metadata": {
    "tags": [
     "remove-cell"
    ]
   },
   "outputs": [
    {
     "data": {
      "image/png": "[encoded data removed]",
      "text/plain": [
       "<Figure size 640x480 with 1 Axes>"
      ]
     },
     "metadata": {},
     "output_type": "display_data"
    }
   ],
   "source": [
    "import numpy as np\n",
    "import matplotlib.pyplot as plt\n",
    "\n",
    "# Generate z values\n",
    "xmin, xmax, ymin, ymax = -5, 1, -3, 3\n",
    "X, Y = np.meshgrid(np.linspace(xmin, xmax, 200),np.linspace(ymin, ymax, 200))\n",
    "Z = X + Y * 1j\n",
    "\n",
    "# Define stability function\n",
    "R = (1 + 1/2 * Z + 1/12 * Z ** 2) / (1 - 1/2 * Z + 1/12 * Z ** 2)\n",
    "\n",
    "# Plot stability region\n",
    "fig = plt.figure()\n",
    "contour = plt.contourf(X, Y, abs(R), levels=[0, 1], colors=\"#99ccff\")  # Plot stability region\n",
    "plt.contour(X, Y, abs(R), colors= \"k\", levels=[0, 1])                    # Add outline\n",
    "plt.axhline(0, color=\"k\", linewidth=1)                                   # Add x-axis line\n",
    "plt.axvline(0, color=\"k\", linewidth=1)                                   # Add y-axis line\n",
    "# plt.axis(\"equal\")\n",
    "plt.axis([xmin, xmax, ymin, ymax])\n",
    "plt.xlabel(\"$\\mathrm{Re}(z)$\", fontsize=12)\n",
    "plt.ylabel(\"$\\mathrm{Im}(z)$\", fontsize=12)\n",
    "plt.axis([xmin, xmax, ymin, ymax])\n",
    "plt.show()\n",
    "\n",
    "from myst_nb import glue\n",
    "glue(\"GL_stability_region\", fig, display=False)"
   ]
  },
  {
   "cell_type": "markdown",
   "id": "b2ad083b",
   "metadata": {},
   "source": [
    "\n",
    "````{exercise}\n",
    ":label: ch4-ex-stiffness-ratio\n",
    "\n",
    "Calculate the stiffness ratio for the following system of ODEs. \n",
    "\n",
    "\\begin{align*}\n",
    "    y_1' &= -20y_1 + y_2, \\\\\n",
    "    y_2' &= 500 y_2.\n",
    "\\end{align*}\n",
    "\n",
    "For the Euler method with step size $h = 0.05$, test the stability against both of the Eigenvalues of this system.\n",
    "\n",
    "```{dropdown} Solution\n",
    "The eigenvalues are $\\lambda_1 = -20$ and $\\lambda_2 = -500$ so the stiffness ratio is\n",
    "\n",
    "$$ S = \\frac{-500}{-20} = 25. $$\n",
    "\n",
    "The stability function for the Euler method is $R(z) = 1 + z = 1 + h \\lambda$. For stability, $|1 + h \\lambda| \\leq 1$. \n",
    "\n",
    "For $\\lambda_1$, $|R(-25 h)| = |1 - 25(0.05)| = 0 < 1$ so is stable.\n",
    "\n",
    "For $\\lambda_2$, $|R(-500 h)| = |1 - 500(0.05)| = 24 > 1$ so is unstable.\n",
    "```\n",
    "````"
   ]
  }
 ],
 "metadata": {
  "kernelspec": {
   "display_name": "base",
   "language": "python",
   "name": "python3"
  },
  "language_info": {
   "codemirror_mode": {
    "name": "ipython",
    "version": 3
   },
   "file_extension": ".py",
   "mimetype": "text/x-python",
   "name": "python",
   "nbconvert_exporter": "python",
   "pygments_lexer": "ipython3",
   "version": "3.11.5"
  }
 },
 "nbformat": 4,
 "nbformat_minor": 5
}