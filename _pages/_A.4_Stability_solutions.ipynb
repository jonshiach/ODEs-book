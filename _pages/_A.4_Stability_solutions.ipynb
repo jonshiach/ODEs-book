{
 "cells": [
  {
   "attachments": {},
   "cell_type": "markdown",
   "id": "c3c2c40c",
   "metadata": {},
   "source": [
    "(stability-solutions-section)=\n",
    "\n",
    "# Stability exercises solutions\n",
    "\n",
    "Solutions to the exercises on [stability](stability-exercises-section).\n",
    "\n",
    "``````{solution} ch4-ex-erk-stability-function\n",
    "\n",
    "\\begin{align*}\n",
    "    \\vec{b} A^0 \\vec{e} &= \n",
    "    \\begin{pmatrix} -1 \\\\ 2/3 \\\\ -1/3 \\\\ 2/3 \\\\ 1 \\end{pmatrix}\n",
    "    \\begin{pmatrix} \n",
    "        1 & 0 & 0 & 0 & 0 \\\\\n",
    "        0 & 1 & 0 & 0 & 0 \\\\\n",
    "        0 & 0 & 1 & 0 & 0 \\\\\n",
    "        0 & 0 & 0 & 1 & 0 \\\\\n",
    "        0 & 0 & 0 & 0 & 1 \n",
    "    \\end{pmatrix}\n",
    "    \\begin{pmatrix} 1 \\\\ 1 \\\\ 1 \\\\ 1 \\\\ 1 \\end{pmatrix}\n",
    "    = 1, \\\\\n",
    "    \\vec{b} A^1 \\vec{e} &= \n",
    "    \\begin{pmatrix} -1 \\\\ 2/3 \\\\ -1/3 \\\\ 2/3 \\\\ 1 \\end{pmatrix}\n",
    "    \\begin{pmatrix} \n",
    "        0 & 0 & 0 & 0 & 0 \\\\\n",
    "        1/4 & 0 & 0 & 0 & 0 \\\\\n",
    "        1/2 & 0 & 0 & 0 & 0 \\\\\n",
    "        0 & 1/2 & 1/4 & 0 & 0 \\\\\n",
    "        0 & 1/6 & -1/3 & 1/6 & 0\n",
    "    \\end{pmatrix}\n",
    "    \\begin{pmatrix} 1 \\\\ 1 \\\\ 1 \\\\ 1 \\\\ 1 \\end{pmatrix}\n",
    "    = \\frac{1}{2}, \\\\\n",
    "    \\vec{b} A^2 \\vec{e} &= \n",
    "    \\begin{pmatrix} -1 \\\\ 2/3 \\\\ -1/3 \\\\ 2/3 \\\\ 1 \\end{pmatrix}\n",
    "    \\begin{pmatrix} \n",
    "        0 & 0 & 0 & 0 & 0 \\\\\n",
    "        0 & 0 & 0 & 0 & 0 \\\\\n",
    "        0 & 0 & 0 & 0 & 0 \\\\\n",
    "        1/4 & 0 & 0 & 0 & 0 \\\\\n",
    "        -1/8 & 1/12 & 1/24 & 0 & 0\n",
    "    \\end{pmatrix}\n",
    "    \\begin{pmatrix} 1 \\\\ 1 \\\\ 1 \\\\ 1 \\\\ 1 \\end{pmatrix}\n",
    "    = \\frac{1}{6}, \\\\\n",
    "    \\vec{b} A^3 \\vec{e} &= \n",
    "    \\begin{pmatrix} -1 \\\\ 2/3 \\\\ -1/3 \\\\ 2/3 \\\\ 1 \\end{pmatrix}\n",
    "    \\begin{pmatrix} \n",
    "        0 & 0 & 0 & 0 & 0 \\\\\n",
    "        0 & 0 & 0 & 0 & 0 \\\\\n",
    "        0 & 0 & 0 & 0 & 0 \\\\\n",
    "        0 & 0 & 0 & 0 & 0 \\\\\n",
    "        1/24 & 0 & 0 & 0 & 0\n",
    "    \\end{pmatrix}\n",
    "    \\begin{pmatrix} 1 \\\\ 1 \\\\ 1 \\\\ 1 \\\\ 1 \\end{pmatrix}\n",
    "    = \\frac{1}{24}, \\\\\n",
    "    \\vec{b} A^4 \\vec{e} &= \n",
    "    \\begin{pmatrix} -1 \\\\ 2/3 \\\\ -1/3 \\\\ 2/3 \\\\ 1 \\end{pmatrix}\n",
    "    \\begin{pmatrix} \n",
    "        0 & 0 & 0 & 0 & 0 \\\\\n",
    "        0 & 0 & 0 & 0 & 0 \\\\\n",
    "        0 & 0 & 0 & 0 & 0 \\\\\n",
    "        0 & 0 & 0 & 0 & 0 \\\\\n",
    "        0 & 0 & 0 & 0 & 0\n",
    "    \\end{pmatrix}\n",
    "    \\begin{pmatrix} 1 \\\\ 1 \\\\ 1 \\\\ 1 \\\\ 1 \\end{pmatrix}\n",
    "    = 0, \\\\\n",
    "\\end{align*}\n",
    "\n",
    "So the stability function is $R(z) = 1 + z + \\frac{1}{2} z^2 + \\frac{1}{6} z^3 + \\frac{1}{24} z^4$\n",
    "\n",
    "Code \n",
    "\n",
    "`````{tab-set}\n",
    "````{tab-item} Python\n",
    "```python\n",
    "from sympy import *\n",
    "\n",
    "# Define ERK method\n",
    "A = Matrix([[0, 0, 0, 0, 0], \n",
    "            [Rational(1,4), 0, 0, 0, 0], \n",
    "            [Rational(1,2), 0, 0, 0, 0], \n",
    "            [0, Rational(1,2), Rational(1,4), 0, 0], \n",
    "            [0, Rational(1,6), -Rational(1,3), Rational(1,6), 0]])\n",
    "b = Matrix([[-1], [Rational(2,3)], [-Rational(1,3)], [Rational(2,3)], [1]])\n",
    "e = ones(5, 1)\n",
    "\n",
    "# Calculate coefficients\n",
    "for k in range(1, len(b) + 1):\n",
    "    print((b.T * A ** (k - 1) * e)[0])\n",
    "```\n",
    "````\n",
    "\n",
    "````{tab-item} MATLAB\n",
    "```matlab\n",
    "% Define ERK method\n",
    "A = [0, 0, 0, 0, 0 ; \n",
    "    1/4, 0, 0, 0, 0 ; \n",
    "    1/2, 0, 0, 0, 0 ;\n",
    "    0, 1/2, 1/4, 0, 0 ;\n",
    "    0, 1/6, -1/3, 1/6, 0];\n",
    "b = [-1 ; 2/3 ; -1/3 ; 2/3 ; 1];\n",
    "e = ones(5, 1);\n",
    "\n",
    "% Calculate coefficients\n",
    "for k = 1 : length(b)\n",
    "    sym(b' * A ^ (k - 1) * e)\n",
    "end\n",
    "```\n",
    "````\n",
    "`````\n",
    "``````"
   ]
  },
  {
   "cell_type": "code",
   "execution_count": 15,
   "id": "7e03759a",
   "metadata": {
    "tags": [
     "remove-cell"
    ]
   },
   "outputs": [
    {
     "data": {
      "text/latex": [
       "$\\displaystyle \\left[\\begin{matrix}1\\end{matrix}\\right]$"
      ],
      "text/plain": [
       "Matrix([[1]])"
      ]
     },
     "metadata": {},
     "output_type": "display_data"
    },
    {
     "data": {
      "text/latex": [
       "$\\displaystyle \\left[\\begin{matrix}\\frac{1}{2}\\end{matrix}\\right]$"
      ],
      "text/plain": [
       "Matrix([[1/2]])"
      ]
     },
     "metadata": {},
     "output_type": "display_data"
    },
    {
     "data": {
      "text/latex": [
       "$\\displaystyle \\left[\\begin{matrix}\\frac{1}{6}\\end{matrix}\\right]$"
      ],
      "text/plain": [
       "Matrix([[1/6]])"
      ]
     },
     "metadata": {},
     "output_type": "display_data"
    },
    {
     "data": {
      "text/latex": [
       "$\\displaystyle \\left[\\begin{matrix}\\frac{1}{24}\\end{matrix}\\right]$"
      ],
      "text/plain": [
       "Matrix([[1/24]])"
      ]
     },
     "metadata": {},
     "output_type": "display_data"
    },
    {
     "data": {
      "text/latex": [
       "$\\displaystyle \\left[\\begin{matrix}0\\end{matrix}\\right]$"
      ],
      "text/plain": [
       "Matrix([[0]])"
      ]
     },
     "metadata": {},
     "output_type": "display_data"
    }
   ],
   "source": [
    "import sympy as sp\n",
    "\n",
    "# Define ERK method\n",
    "A = sp.Matrix([[0, 0, 0, 0, 0], \n",
    "            [sp.Rational(1,4), 0, 0, 0, 0], \n",
    "            [sp.Rational(1,2), 0, 0, 0, 0], \n",
    "            [0, sp.Rational(1,2), sp.Rational(1,4), 0, 0], \n",
    "            [0, sp.Rational(1,6), -sp.Rational(1,3), sp.Rational(1,6), 0]])\n",
    "b = sp.Matrix([[-1], [sp.Rational(2,3)], [-sp.Rational(1,3)], [sp.Rational(2,3)], [1]])\n",
    "e = sp.ones(5, 1)\n",
    "\n",
    "# Calculate coefficients\n",
    "for k in range(1, len(b) + 1):\n",
    "    display(b.T * A ** (k - 1) * e)"
   ]
  },
  {
   "attachments": {},
   "cell_type": "markdown",
   "id": "2597b55c",
   "metadata": {},
   "source": [
    "``````{solution} ch4-ex-irk-stability-function\n",
    "\n",
    "\\begin{align*}\n",
    "    R(z) &= \\frac{\\det \\left( \n",
    "    \\begin{pmatrix} 1 & 0 \\\\ 0 & 1 \\end{pmatrix} - z\n",
    "    \\begin{pmatrix} 7/24 & -1/24 \\\\ 13/24 & 5/24 \\end{pmatrix} + z\n",
    "    \\begin{pmatrix} 1/2 & 0 \\\\ 0 & 1/2 \\end{pmatrix} \\right)}{\\det \\left(\n",
    "    \\begin{pmatrix} 1 & 0 \\\\ 0 & 1 \\end{pmatrix} - z\n",
    "    \\begin{pmatrix} 7/24 & -1/24 \\\\ 13/24 & 5/24 \\end{pmatrix} \\right)} \\\\\n",
    "    &= \\frac{\\det \n",
    "    \\begin{pmatrix} 1 + 5z/24 & z/24 \\\\ -13z/24 & 1 + 7z/24 \\end{pmatrix}}{\\det\n",
    "    \\begin{pmatrix} 1 - 7z/24 & z/24 \\\\ -13z/34 & 1 - 5z/24 \\end{pmatrix}}\n",
    "    = \\frac{1 + \\frac{1}{2} z + \\frac{1}{12} z^2}{1 - \\frac{1}{2} z + \\frac{1}{12} z^2}.\n",
    "\\end{align*}\n",
    "\n",
    "Check the roots of $Q(z)$\n",
    "\\begin{align*}\n",
    "    0 &= 1 - \\frac{1}{2} z + \\frac{1}{12} z^2, \\\\\n",
    "    \\therefore z &= \\frac{\\frac{1}{2} \\pm \\sqrt{-\\frac{1}{3}}}{\\frac{1}{6}}\n",
    "    = 3 \\pm \\sqrt{3}i,\n",
    "\\end{align*}\n",
    "so the roots of $Q(z)$ have positive real parts so the first condition for A-stability is satisfied.\n",
    "\n",
    "Check that $E(y) \\geq 0$\n",
    "\n",
    "\\begin{align*}\n",
    "    E(y) &= \\left( 1 - \\frac{1}{2} i y - \\frac{1}{12} y^2 \\right)\n",
    "    \\left( 1 + \\frac{1}{2} i y - \\frac{1}{12} y^2 \\right) \\\\\n",
    "    & \\qquad -\n",
    "    \\left( 1 - \\frac{1}{2} i y - \\frac{1}{12} y^2 \\right)\n",
    "    \\left( 1 + \\frac{1}{2} i y - \\frac{1}{12} y^2 \\right) = 0\n",
    "\\end{align*}\n",
    "\n",
    "so $E(y) \\geq 0$ and the second condition for A-stability is satisfied. Since both conditions are satisfied then this method is A-stable\n",
    "\n",
    "Code\n",
    "\n",
    "`````{tab-set}\n",
    "````{tab-item} Python\n",
    "```python\n",
    "import sympy as sp\n",
    "\n",
    "# Define numerator and denominator functions\n",
    "def P(z):\n",
    "    return (I - z * A + z * ebT).det()\n",
    "\n",
    "def Q(z):\n",
    "    return (I - z * A).det()\n",
    "\n",
    "# Define RK method\n",
    "A = sp.Matrix([[sp.Rational(7,24), -sp.Rational(1,24)], [sp.Rational(13,24), sp.Rational(5,24)]])\n",
    "ebT = sp.Matrix([[sp.Rational(1,2), 0], [0, sp.Rational(1,2)]])\n",
    "I = sp.eye(2)\n",
    "\n",
    "# Calculate R(z)\n",
    "z, y = sp.symbols('z, y')\n",
    "R = P(z) / Q(z)\n",
    "print(\"R(z) = \")\n",
    "display(R)\n",
    "\n",
    "# Check roots of Q have positive real parts\n",
    "print('roots of Q(z) = ')\n",
    "display(sp.solve(Q(z)))\n",
    "\n",
    "# Check E(y) >= 0\n",
    "E = Q(1j * y) * Q(-1j * y) - P(1j * y) * P(-1j * y)\n",
    "print('E(y) = ')\n",
    "display(sp.simplify(sp.nsimplify(E)))\n",
    "```\n",
    "````\n",
    "\n",
    "````{tab-item} MATLAB\n",
    "```matlab\n",
    "% Define IRK method\n",
    "A = [7/24, -1/24 ; 13/24, 5/24];\n",
    "ebT = [1/2, 0 ; 0, 1/2];\n",
    "I = eye(2);\n",
    "\n",
    "% Calculate R(z)\n",
    "syms z y\n",
    "\n",
    "P = @(z) det(I - z * A + z * ebT);\n",
    "Q = @(z) det(I - z * A);\n",
    "\n",
    "Rz = P(z) / Q(z)\n",
    "\n",
    "% Check roots of Q have positive real parts\n",
    "solve(Q(z) == 0)\n",
    "\n",
    "% Check E(y) >= 0\n",
    "E = Q(1i * y) * Q(-1i * y) - P(1i * y) * P(-1i * y)\n",
    "```\n",
    "````\n",
    "`````\n",
    "``````"
   ]
  },
  {
   "cell_type": "code",
   "execution_count": 18,
   "id": "6b962d3f",
   "metadata": {
    "tags": [
     "remove-cell"
    ]
   },
   "outputs": [
    {
     "name": "stdout",
     "output_type": "stream",
     "text": [
      "R(z) = \n"
     ]
    },
    {
     "data": {
      "text/latex": [
       "$\\displaystyle \\frac{\\frac{z^{2}}{12} + \\frac{z}{2} + 1}{\\frac{z^{2}}{12} - \\frac{z}{2} + 1}$"
      ],
      "text/plain": [
       "(z**2/12 + z/2 + 1)/(z**2/12 - z/2 + 1)"
      ]
     },
     "metadata": {},
     "output_type": "display_data"
    },
    {
     "name": "stdout",
     "output_type": "stream",
     "text": [
      "roots of Q(z) = \n"
     ]
    },
    {
     "data": {
      "text/plain": [
       "[3 - sqrt(3)*I, 3 + sqrt(3)*I]"
      ]
     },
     "metadata": {},
     "output_type": "display_data"
    },
    {
     "name": "stdout",
     "output_type": "stream",
     "text": [
      "E(y) = \n"
     ]
    },
    {
     "data": {
      "text/latex": [
       "$\\displaystyle 0$"
      ],
      "text/plain": [
       "0"
      ]
     },
     "metadata": {},
     "output_type": "display_data"
    }
   ],
   "source": [
    "import sympy as sp\n",
    "\n",
    "# Define numerator and denominator functions\n",
    "def P(z):\n",
    "    return (I - z * A + z * ebT).det()\n",
    "\n",
    "def Q(z):\n",
    "    return (I - z * A).det()\n",
    "\n",
    "# Define RK method\n",
    "A = sp.Matrix([[sp.Rational(7,24), -sp.Rational(1,24)], [sp.Rational(13,24), sp.Rational(5,24)]])\n",
    "ebT = sp.Matrix([[sp.Rational(1,2), 0], [0, sp.Rational(1,2)]])\n",
    "I = sp.eye(2)\n",
    "\n",
    "# Calculate R(z)\n",
    "z, y = sp.symbols('z, y')\n",
    "R = P(z) / Q(z)\n",
    "print(\"R(z) = \")\n",
    "display(R)\n",
    "\n",
    "# Check roots of Q have positive real parts\n",
    "print('roots of Q(z) = ')\n",
    "display(sp.solve(Q(z)))\n",
    "\n",
    "# Check E(y) >= 0\n",
    "E = Q(1j * y) * Q(-1j * y) - P(1j * y) * P(-1j * y)\n",
    "print('E(y) = ')\n",
    "display(sp.simplify(sp.nsimplify(E)))"
   ]
  },
  {
   "attachments": {},
   "cell_type": "markdown",
   "id": "3d3d5ed6",
   "metadata": {},
   "source": [
    "``````{solution} ch2-ex-dirk-stability-function\n",
    "\n",
    "Determine the stability function\n",
    "\\begin{align*}\n",
    "    R(z) &= \\frac{\\left( \n",
    "    \\begin{pmatrix} 1 & 0 \\\\ 0 & 1 \\end{pmatrix} - z\n",
    "    \\begin{pmatrix} 1/3 & 0 \\\\ 1 & 0 \\end{pmatrix} - z\n",
    "    \\begin{pmatrix} 3/4 & 0 \\\\ 0 & 1/4 \\end{pmatrix} \\right)}{ \\det \\left(\n",
    "    \\begin{pmatrix} 1 & 0 \\\\ 0 & 1 \\end{pmatrix} - z\n",
    "    \\begin{pmatrix} 1/3 & 0 \\\\ 1 & 0 \\end{pmatrix} \\right)} \\\\\n",
    "    &= \\frac{\\det\n",
    "    \\begin{pmatrix} 1 - 13z/12 & 0 \\\\ -z & 1 - z/4 \\end{pmatrix}}{\\det\n",
    "    \\begin{pmatrix} 1 - z/3 & 0  \\\\ -z & 1 \\end{pmatrix}}\n",
    "    = \\frac{1 + 2/3 z + \\frac{5}{48} z^2}{1 - 1/3 z}\n",
    "\\end{align*}\n",
    "\n",
    "Plot \n",
    "\n",
    "```{glue:figure} ex4.3_plot\n",
    ":figwidth: 600\n",
    "```\n",
    "\n",
    "Code\n",
    "\n",
    "`````{tab-set}\n",
    "````{tab-item} Python\n",
    "\n",
    "Determine stability function\n",
    "\n",
    "```python\n",
    "import sympy as sp\n",
    "\n",
    "# Define RK method\n",
    "A = sp.Matrix([[sp.Rational(1,3), 0], [1, 0]])\n",
    "ebT = sp.Matrix([[sp.Rational(3,4), 0], [0, sp.Rational(1,4)]])\n",
    "I = sp.eye(2)\n",
    "\n",
    "# Define numerator and denominator functions\n",
    "def P(z):\n",
    "    return (I - z * A + z * ebT).det()\n",
    "\n",
    "def Q(z):\n",
    "    return (I - z * A).det()\n",
    "\n",
    "\n",
    "# Calculate R(z)\n",
    "z, y = sp.symbols('z, y')\n",
    "Rz = P(z) / Q(z)\n",
    "print(\"R(z) = \")\n",
    "display(sp.nsimplify(Rz))\n",
    "```\n",
    "\n",
    "Plot region of absolute stability\n",
    "\n",
    "```python\n",
    "import numpy as np\n",
    "import matplotlib.pyplot as plt\n",
    "plt.rcParams['text.usetex'] = True  # allows use of LaTeX in labels\n",
    "\n",
    "# Generate z values\n",
    "X, Y = np.meshgrid(np.linspace(-10, 10, 200), np.linspace(-10, 10, 200))\n",
    "Z = X + Y * 1j\n",
    "\n",
    "# Define stability function\n",
    "R = (1 + 2 / 3 * Z + 5 / 48 * Z ** 2) / (1 - 1 / 3 * Z)\n",
    "\n",
    "# Plot stability region\n",
    "fig = plt.figure(figsize=(8, 6))\n",
    "plt.contourf(X, Y, abs(R), levels=[0, 1], colors=\"#99ccff\")\n",
    "plt.contour(X, Y, abs(R), colors= \"k\", levels=[0, 1])\n",
    "plt.axhline(0, color=\"k\", linewidth=1)\n",
    "plt.axvline(0, color=\"k\", linewidth=1)\n",
    "plt.axis(\"equal\")\n",
    "plt.axis([-15, 5, -7, 7])\n",
    "plt.xlabel(\"$\\mathrm{Re}(z)$\", fontsize=14)\n",
    "plt.ylabel(\"$\\mathrm{Im}(z)$\", fontsize=14)\n",
    "plt.show()\n",
    "```\n",
    "````\n",
    "\n",
    "````{tab-item} MATLAB\n",
    "Determine stability function\n",
    "\n",
    "```matlab\n",
    "% Define IRK method\n",
    "A = [1/3, 0 ; 1, 0];\n",
    "ebT = [3/4, 0 ; 0, 1/4];\n",
    "I = eye(2);\n",
    "\n",
    "% Calculate R(z)\n",
    "syms z y\n",
    "\n",
    "P = @(z) det(I - z * A + z * ebT);\n",
    "Q = @(z) det(I - z * A);\n",
    "\n",
    "Rz = P(z) / Q(z)\n",
    "```\n",
    "\n",
    "Plot region of absolute stability\n",
    "\n",
    "```matlab\n",
    "% Generate z values\n",
    "[X, Y] = meshgrid(linspace(-10, 10, 200), linspace(-10, 10, 200));\n",
    "Z = X + Y * 1i;\n",
    "\n",
    "% Define stability function\n",
    "R = (1 + 2 / 3 * Z + 5 / 48 * Z .^ 2) ./ (1 - 1 / 3 * Z);\n",
    "\n",
    "% Plot stability region\n",
    "contourf(X, Y, abs(R), [0, 1], LineWidth=2)\n",
    "xline(0, LineWidth=2)\n",
    "yline(0, LineWidth=2)\n",
    "colormap([153, 204, 255 ; 255, 255, 255] / 255)\n",
    "axis equal\n",
    "axis([-15, 5, -7, 7])\n",
    "xlabel(\"$\\mathrm{Re}(z)$\", FontSize=12, Interpreter=\"latex\")\n",
    "ylabel(\"$\\mathrm{Im}(z)$\", FontSize=12, Interpreter=\"latex\")\n",
    "```\n",
    "````\n",
    "`````\n",
    "``````"
   ]
  },
  {
   "cell_type": "code",
   "execution_count": 1,
   "id": "4709e26e",
   "metadata": {
    "tags": [
     "remove-cell"
    ]
   },
   "outputs": [
    {
     "name": "stdout",
     "output_type": "stream",
     "text": [
      "R(z) = \n"
     ]
    },
    {
     "data": {
      "text/latex": [
       "$\\displaystyle \\frac{\\frac{5 z^{2}}{48} + \\frac{2 z}{3} + 1}{1 - \\frac{z}{3}}$"
      ],
      "text/plain": [
       "(5*z**2/48 + 2*z/3 + 1)/(1 - z/3)"
      ]
     },
     "metadata": {},
     "output_type": "display_data"
    }
   ],
   "source": [
    "import sympy as sp\n",
    "\n",
    "# Define RK method\n",
    "A = sp.Matrix([[sp.Rational(1,3), 0], [1, 0]])\n",
    "ebT = sp.Matrix([[sp.Rational(3,4), 0], [0, sp.Rational(1,4)]])\n",
    "I = sp.eye(2)\n",
    "\n",
    "# Define numerator and denominator functions\n",
    "def P(z):\n",
    "    return (I - z * A + z * ebT).det()\n",
    "\n",
    "def Q(z):\n",
    "    return (I - z * A).det()\n",
    "\n",
    "\n",
    "# Calculate R(z)\n",
    "z, y = sp.symbols('z, y')\n",
    "Rz = P(z) / Q(z)\n",
    "print(\"R(z) = \")\n",
    "display(sp.nsimplify(Rz))"
   ]
  },
  {
   "cell_type": "code",
   "execution_count": null,
   "id": "d99e512a",
   "metadata": {
    "tags": [
     "remove-cell"
    ]
   },
   "outputs": [],
   "source": [
    "import numpy as np\n",
    "import matplotlib.pyplot as plt\n",
    "plt.rcParams['text.usetex'] = True  # allows use of LaTeX in labels\n",
    "\n",
    "# Generate z values\n",
    "X, Y = np.meshgrid(np.linspace(-10, 10, 200), np.linspace(-10, 10, 200))\n",
    "Z = X + Y * 1j\n",
    "\n",
    "# Define stability function\n",
    "R = (1 + 2 / 3 * Z + 5 / 48 * Z ** 2) / (1 - 1 / 3 * Z)\n",
    "\n",
    "# Plot stability region\n",
    "fig = plt.figure(figsize=(8, 6))\n",
    "plt.contourf(X, Y, abs(R), levels=[0, 1], colors=\"#99ccff\")\n",
    "plt.contour(X, Y, abs(R), colors= \"k\", levels=[0, 1])\n",
    "plt.axhline(0, color=\"k\", linewidth=1)\n",
    "plt.axvline(0, color=\"k\", linewidth=1)\n",
    "plt.axis(\"equal\")\n",
    "plt.axis([-15, 5, -7, 7])\n",
    "plt.xlabel(\"$\\mathrm{Re}(z)$\", fontsize=14)\n",
    "plt.ylabel(\"$\\mathrm{Im}(z)$\", fontsize=14)\n",
    "plt.show()\n",
    "\n",
    "from myst_nb import glue\n",
    "glue(\"ex4.3_plot\", fig, display=False)"
   ]
  },
  {
   "attachments": {},
   "cell_type": "markdown",
   "id": "46543864",
   "metadata": {},
   "source": [
    "````{solution} ch4-ex-stiffness-ratio\n",
    "\n",
    "Calculate the eigenvalues of the coefficient matrix\n",
    "\n",
    "\\begin{align*}\n",
    "    0 &= \\begin{vmatrix} -80.6 - \\lambda & 119.4 \\\\ 79.6 & -120.4 - \\lambda \\end{vmatrix}\n",
    "    = \\lambda^2 + 201 \\lambda + 200, \\\\\n",
    "    \\therefore \\lambda &= \\frac{-201 \\pm 199}{2} = -200, -1\n",
    "\\end{align*}\n",
    "\n",
    "so the stiffness ratio is $S = 200$. The Euler method is stable for $h\\lambda \\in [-2, 0]$ so the maximum step length is \n",
    "\n",
    "$$h = \\frac{-2}{\\min(-200, -1)} = \\frac{-2}{-200} = 0.01.$$\n",
    "````"
   ]
  }
 ],
 "metadata": {
  "celltoolbar": "Tags",
  "kernelspec": {
   "display_name": "Python 3",
   "language": "python",
   "name": "python3"
  },
  "language_info": {
   "codemirror_mode": {
    "name": "ipython",
    "version": 3
   },
   "file_extension": ".py",
   "mimetype": "text/x-python",
   "name": "python",
   "nbconvert_exporter": "python",
   "pygments_lexer": "ipython3",
   "version": "3.11.2"
  }
 },
 "nbformat": 4,
 "nbformat_minor": 5
}
